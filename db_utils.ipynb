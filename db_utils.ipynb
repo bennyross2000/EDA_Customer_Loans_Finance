{
 "cells": [
  {
   "cell_type": "code",
   "execution_count": 16,
   "metadata": {},
   "outputs": [],
   "source": [
    "import yaml\n",
    "from sqlalchemy import create_engine as sqlalchemy_create_engine\n",
    "import pandas as pd\n",
    "\n",
    "class RDSDatabaseConnector:\n",
    "    def __init__(self, credentials):\n",
    "        self.credentials = credentials\n",
    "        self.engine = self.create_custom_engine()\n",
    "\n",
    "    def load_credentials(self):\n",
    "        with open('credentials.yaml', 'r') as file:\n",
    "            credentials = yaml.safe_load(file)\n",
    "        return credentials\n",
    "\n",
    "    def create_custom_engine(self):\n",
    "        connection_string = f\"postgresql://{self.credentials['RDS_USER']}:{self.credentials['RDS_PASSWORD']}@{self.credentials['RDS_HOST']}:{self.credentials['RDS_PORT']}/{self.credentials['RDS_DATABASE']}\"\n",
    "        engine = sqlalchemy_create_engine(connection_string)\n",
    "        return engine\n",
    "\n",
    "    def extract_data_to_dataframe(self):\n",
    "        query = \"SELECT * FROM loan_payments\"  # Example query, replace with your query\n",
    "        data_frame = pd.read_sql(query, self.engine)\n",
    "        return data_frame\n",
    "\n",
    "    def save_to_csv(self, data_frame, file_path):\n",
    "        full_file_path = 'C:\\\\Users\\\\admin\\\\EDA - Customer Loans\\\\loan_payments.csv'\n",
    "        data_frame.to_csv(full_file_path, index=False)"
   ]
  }
 ],
 "metadata": {
  "kernelspec": {
   "display_name": "EDA_env",
   "language": "python",
   "name": "python3"
  },
  "language_info": {
   "codemirror_mode": {
    "name": "ipython",
    "version": 3
   },
   "file_extension": ".py",
   "mimetype": "text/x-python",
   "name": "python",
   "nbconvert_exporter": "python",
   "pygments_lexer": "ipython3",
   "version": "3.11.7"
  }
 },
 "nbformat": 4,
 "nbformat_minor": 2
}
