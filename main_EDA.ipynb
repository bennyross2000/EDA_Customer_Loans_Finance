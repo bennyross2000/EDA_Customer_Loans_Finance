{
 "cells": [
  {
   "cell_type": "code",
   "execution_count": 3,
   "metadata": {},
   "outputs": [],
   "source": [
    "from db_utils_3 import RDSDatabaseConnector\n",
    "\n",
    "credentials = {\n",
    "    'RDS_HOST': 'eda-projects.cq2e8zno855e.eu-west-1.rds.amazonaws.com',\n",
    "    'RDS_PASSWORD': 'EDAloananalyst',\n",
    "    'RDS_USER': 'loansanalyst',\n",
    "    'RDS_DATABASE': 'payments',\n",
    "    'RDS_PORT': '5432'\n",
    "}\n",
    "\n",
    "def main():\n",
    "    rds_connector = RDSDatabaseConnector(credentials)\n",
    "\n",
    "    data_frame = rds_connector.extract_data_to_dataframe()\n",
    "\n",
    "    file_path = 'C:/Users/admin/EDA - Customer Loans/loan_payments.csv'\n",
    "\n",
    "    rds_connector.save_to_csv(data_frame, file_path)\n",
    "\n",
    "if __name__ == \"__main__\":\n",
    "    main()"
   ]
  }
 ],
 "metadata": {
  "kernelspec": {
   "display_name": "EDA_env",
   "language": "python",
   "name": "python3"
  },
  "language_info": {
   "codemirror_mode": {
    "name": "ipython",
    "version": 3
   },
   "file_extension": ".py",
   "mimetype": "text/x-python",
   "name": "python",
   "nbconvert_exporter": "python",
   "pygments_lexer": "ipython3",
   "version": "3.11.7"
  }
 },
 "nbformat": 4,
 "nbformat_minor": 2
}
